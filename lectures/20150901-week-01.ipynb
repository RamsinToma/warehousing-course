{
 "cells": [
  {
   "cell_type": "markdown",
   "metadata": {},
   "source": [
    "# Week 1 - September 1, 2015\n",
    "\n",
    "Hi, welcome to our first class lecture notebook.  Here I'll gather all the commands I showed in class the other night and add a little explanation along the way.  During that first talk I wanted to be sure you saw what it looks like to work directly in bash, or in the command line, and what it means to use a [REPL](https://en.wikipedia.org/wiki/Read%E2%80%93eval%E2%80%93print_loop).  In future weeks I'll just use a notebook directly during lectures and will post those right after class.\n",
    "\n",
    "This was a somewhat unrehearsed tour of useful stuff.  For a more thoughtful lesson on the command line shell, see [Software Carpentry's Lesson \"The UNIX Shell\"](http://software-carpentry.org/lessons.html)."
   ]
  },
  {
   "cell_type": "markdown",
   "metadata": {},
   "source": [
    "## Who, what, where, when\n",
    "\n",
    "We started with a little tour of basic bash notebook functions.  Starting with the who / what / where, we can ask about our account name:"
   ]
  },
  {
   "cell_type": "code",
   "execution_count": 17,
   "metadata": {
    "collapsed": false
   },
   "outputs": [
    {
     "name": "stdout",
     "output_type": "stream",
     "text": [
      "vagrant\r\n"
     ]
    }
   ],
   "source": [
    "whoami"
   ]
  },
  {
   "cell_type": "markdown",
   "metadata": {},
   "source": [
    "That's a default set because we're using vagrant - it's not commentary.\n",
    "\n",
    "Next we asked where we are in the file system:"
   ]
  },
  {
   "cell_type": "code",
   "execution_count": 18,
   "metadata": {
    "collapsed": false
   },
   "outputs": [
    {
     "name": "stdout",
     "output_type": "stream",
     "text": [
      "/home/vagrant/warehousing-course/lectures\r\n"
     ]
    }
   ],
   "source": [
    "pwd"
   ]
  },
  {
   "cell_type": "markdown",
   "metadata": {},
   "source": [
    "This is a little different from what you saw last night, because I'm putting this in a new folder.  Yes, it's odd that ```pwd``` isn't ```whereami```.  But you have to admit ```pwd``` is easier to type than ```whereami```.  Just think to yourself: \"Print Working Directory\" and ```pwd``` will be easy to remember.\n",
    "\n",
    "How does bash know how to execute these commands?  First, it looks up which command you might mean, using ```which```:"
   ]
  },
  {
   "cell_type": "code",
   "execution_count": 19,
   "metadata": {
    "collapsed": false
   },
   "outputs": [
    {
     "name": "stdout",
     "output_type": "stream",
     "text": [
      "/usr/bin/whoami\r\n"
     ]
    }
   ],
   "source": [
    "which whoami"
   ]
  },
  {
   "cell_type": "markdown",
   "metadata": {},
   "source": [
    "Okay, so ```whoami``` is under ```/usr/bin```.  How did it know to look under ```/usr/bin```?  Well, because that's the ```PATH```."
   ]
  },
  {
   "cell_type": "code",
   "execution_count": 20,
   "metadata": {
    "collapsed": false
   },
   "outputs": [
    {
     "name": "stdout",
     "output_type": "stream",
     "text": [
      "/usr/local/sbin:/usr/local/bin:/usr/sbin:/usr/bin:/sbin:/bin:/usr/games:/usr/local/games:/home/vagrant/repos/command-line-tools-for-data-science/tools:/home/vagrant/tools:/usr/lib/go/bin:/home/vagrant/.go/bin:/home/vagrant/apps/spark/bin:/home/vagrant/apps/spark/bin\r\n"
     ]
    }
   ],
   "source": [
    "echo $PATH"
   ]
  },
  {
   "cell_type": "markdown",
   "metadata": {},
   "source": [
    "Wait, what's ```echo```?  It's just a way to print stuff to the screen.  Such as saying hello:"
   ]
  },
  {
   "cell_type": "code",
   "execution_count": 21,
   "metadata": {
    "collapsed": false
   },
   "outputs": [
    {
     "name": "stdout",
     "output_type": "stream",
     "text": [
      "hello world\r\n"
     ]
    }
   ],
   "source": [
    "echo \"hello world\""
   ]
  },
  {
   "cell_type": "markdown",
   "metadata": {},
   "source": [
    "Okay, so all those different directories on the system, separated by colons like you see above, are the ```PATH``` system variable.  You might note that there's something like this on Windows, too, along with a lot of other variables.  \n",
    "\n",
    "So when you type a command in bash, it looks in every one of those directories for it, and if it finds it, it executes it.  In this case, it finds ```whoami``` under ```/usr/bin```, which is the fourth place it checks.\n",
    "\n",
    "And if you type a command it can't find, it tells you so:"
   ]
  },
  {
   "cell_type": "code",
   "execution_count": 22,
   "metadata": {
    "collapsed": false
   },
   "outputs": [
    {
     "name": "stdout",
     "output_type": "stream",
     "text": [
      "No command 'turtle' found, did you mean:\r\n",
      " Command 'kturtle' from package 'kturtle' (universe)\r\n",
      "turtle: command not found\r\n"
     ]
    }
   ],
   "source": [
    "turtle"
   ]
  },
  {
   "cell_type": "code",
   "execution_count": 23,
   "metadata": {
    "collapsed": false
   },
   "outputs": [
    {
     "name": "stdout",
     "output_type": "stream",
     "text": []
    }
   ],
   "source": [
    "which turtle"
   ]
  },
  {
   "cell_type": "markdown",
   "metadata": {},
   "source": [
    "See?  Nothing there.  But at least it's helpful to know we could install ```kturtle```.  Let's not for now, though.\n",
    "\n",
    "Going back to the questions of what and where, it's helpful to look around.  ```ls``` is the command for listing files:"
   ]
  },
  {
   "cell_type": "code",
   "execution_count": 24,
   "metadata": {
    "collapsed": false
   },
   "outputs": [
    {
     "name": "stdout",
     "output_type": "stream",
     "text": [
      "20150901-week-01.ipynb  siddhartha.txt\r\n"
     ]
    }
   ],
   "source": [
    "ls"
   ]
  },
  {
   "cell_type": "markdown",
   "metadata": {},
   "source": [
    "In the current directory, there's only this notebook!  What else can we find out about the notebook file?  Let's use ```ls``` with some options (also called \"flags\"):"
   ]
  },
  {
   "cell_type": "code",
   "execution_count": 25,
   "metadata": {
    "collapsed": false
   },
   "outputs": [
    {
     "name": "stdout",
     "output_type": "stream",
     "text": [
      "total 296\r\n",
      "-rw-rw-r-- 1 vagrant vagrant  57754 Sep  4 08:24 20150901-week-01.ipynb\r\n",
      "-rw-rw-r-- 1 vagrant vagrant 241176 Sep  3 18:12 siddhartha.txt\r\n"
     ]
    }
   ],
   "source": [
    "ls -l"
   ]
  },
  {
   "cell_type": "markdown",
   "metadata": {},
   "source": [
    "Okay, so now we know the permissions (the \"```-rw-rw-r--```\" part), who owns this file (vagrant), which group owns the file (also vagrant), how many bytes it is (5975 or probably more after I type more here), when it was last modified (Sep 3 at 17:06 or probably later because I'll keep typing), and the file name itself.\n",
    "\n",
    "```ls -l``` is the ```ls``` command with the ```-l``` option which stands for \"long list\".  There are lots of options.  Another useful one is ```ls -a```:"
   ]
  },
  {
   "cell_type": "code",
   "execution_count": 26,
   "metadata": {
    "collapsed": false
   },
   "outputs": [
    {
     "name": "stdout",
     "output_type": "stream",
     "text": [
      "\u001b[0m\u001b[01;34m.\u001b[0m   .~20150901-week-01.ipynb  \u001b[01;34m.ipynb_checkpoints\u001b[0m\r\n",
      "\u001b[01;34m..\u001b[0m  20150901-week-01.ipynb    siddhartha.txt\r\n"
     ]
    }
   ],
   "source": [
    "ls -a"
   ]
  },
  {
   "cell_type": "markdown",
   "metadata": {},
   "source": [
    "```ls -a``` shows all the \"dotfiles\", semi-hidden files that you don't normally want to see but are actually all over your drive.  The ```.ipynb_checkpoints``` file is a support file for this notebook.  The ```.``` file is actually a reference to this very directory, and is often called \"dot\".  The ```..``` file is actually a reference to this directory's parent directory, and is often called -- yep -- \"dot dot\".\n",
    "\n",
    "Note that we can combine flags:"
   ]
  },
  {
   "cell_type": "code",
   "execution_count": 27,
   "metadata": {
    "collapsed": false
   },
   "outputs": [
    {
     "name": "stdout",
     "output_type": "stream",
     "text": [
      "total 276\r\n",
      "drwxrwxr-x 3 vagrant vagrant   4096 Sep  4 08:26 \u001b[0m\u001b[01;34m.\u001b[0m\r\n",
      "drwxrwxr-x 4 vagrant vagrant   4096 Sep  3 16:50 \u001b[01;34m..\u001b[0m\r\n",
      "-rw-rw-r-- 1 vagrant vagrant  28380 Sep  4 08:26 20150901-week-01.ipynb\r\n",
      "drwxr-xr-x 2 vagrant vagrant   4096 Sep  3 16:57 \u001b[01;34m.ipynb_checkpoints\u001b[0m\r\n",
      "-rw-rw-r-- 1 vagrant vagrant 241176 Sep  3 18:12 siddhartha.txt\r\n"
     ]
    }
   ],
   "source": [
    "ls -al"
   ]
  },
  {
   "cell_type": "markdown",
   "metadata": {},
   "source": [
    "That's \"give me a file listing, long form, with hidden files.\"\n",
    "\n",
    "You can also specify a directory, using an argument:"
   ]
  },
  {
   "cell_type": "code",
   "execution_count": 28,
   "metadata": {
    "collapsed": false
   },
   "outputs": [
    {
     "name": "stdout",
     "output_type": "stream",
     "text": [
      "total 288\r\n",
      "drwxrwxr-x  4 vagrant vagrant   4096 Sep  3 16:50 \u001b[0m\u001b[01;34m.\u001b[0m\r\n",
      "drwxr-xr-x 35 vagrant vagrant   4096 Sep  3 16:49 \u001b[01;34m..\u001b[0m\r\n",
      "-rw-rw-r--  1 vagrant vagrant   1125 Sep  3 16:49 assignment-01.md\r\n",
      "drwxrwxr-x  8 vagrant vagrant   4096 Sep  3 16:49 \u001b[01;34m.git\u001b[0m\r\n",
      "-rw-rw-r--  1 vagrant vagrant    715 Sep  3 16:49 .gitignore\r\n",
      "drwxrwxr-x  3 vagrant vagrant   4096 Sep  4 08:26 \u001b[01;34mlectures\u001b[0m\r\n",
      "-rw-rw-r--  1 vagrant vagrant   6556 Sep  3 16:49 LICENSE\r\n",
      "-rw-rw-r--  1 vagrant vagrant   1866 Sep  3 16:49 README.md\r\n",
      "-rw-rw-r--  1 vagrant vagrant   5769 Sep  3 16:49 README-vm-installation.txt\r\n",
      "-rw-rw-r--  1 vagrant vagrant  64941 Sep  3 16:49 Schedule.pdf\r\n",
      "-rw-rw-r--  1 vagrant vagrant 181689 Sep  3 16:49 Syllabus.pdf\r\n"
     ]
    }
   ],
   "source": [
    "ls -al .."
   ]
  },
  {
   "cell_type": "markdown",
   "metadata": {},
   "source": [
    "```ls -al ..``` means \"give me a file listing, long form, with hidden files, for the current directory's parent directory.\"\n",
    "\n",
    "## Moving around\n",
    "\n",
    "To move around or Change Directories, use ```cd```:"
   ]
  },
  {
   "cell_type": "code",
   "execution_count": 29,
   "metadata": {
    "collapsed": false
   },
   "outputs": [
    {
     "name": "stdout",
     "output_type": "stream",
     "text": [
      "/home/vagrant/warehousing-course\r\n"
     ]
    }
   ],
   "source": [
    "cd ..\n",
    "pwd"
   ]
  },
  {
   "cell_type": "markdown",
   "metadata": {},
   "source": [
    "And to go back:"
   ]
  },
  {
   "cell_type": "code",
   "execution_count": 30,
   "metadata": {
    "collapsed": false
   },
   "outputs": [
    {
     "name": "stdout",
     "output_type": "stream",
     "text": [
      "/home/vagrant/warehousing-course/lectures\r\n"
     ]
    }
   ],
   "source": [
    "cd lectures\n",
    "pwd"
   ]
  },
  {
   "cell_type": "markdown",
   "metadata": {},
   "source": [
    "Easy, right?\n",
    "\n",
    "Most unix commands have a manual page or \"man page\".  You can access them with the command ```man```, which takes the name of a command as an argument (e.g. ```man ls```, which I won't do here, because it generates a lot of output)."
   ]
  },
  {
   "cell_type": "markdown",
   "metadata": {},
   "source": [
    "## Absolute and relative paths\n",
    "\n",
    "```.``` and ```..``` and ```lectures``` are examples of \"relative paths\".  This is the same concept as relative links on a web site, which should be familiar to any of you have work on web sites before.  And just like with web sites, there are also absolute paths, like there are absolute links.  On unix, absolute paths start with ```/```."
   ]
  },
  {
   "cell_type": "code",
   "execution_count": 31,
   "metadata": {
    "collapsed": false
   },
   "outputs": [
    {
     "name": "stdout",
     "output_type": "stream",
     "text": [
      "\u001b[0m\u001b[01;34mbin\u001b[0m   \u001b[01;34mhome\u001b[0m            \u001b[01;34mlib64\u001b[0m       \u001b[01;34mopt\u001b[0m   \u001b[01;34msbin\u001b[0m  \u001b[01;34musr\u001b[0m      \u001b[01;36mvmlinuz.old\u001b[0m\r\n",
      "\u001b[01;34mboot\u001b[0m  \u001b[01;36minitrd.img\u001b[0m      \u001b[01;34mlost+found\u001b[0m  \u001b[01;34mproc\u001b[0m  \u001b[01;34msrv\u001b[0m   \u001b[01;34mvagrant\u001b[0m\r\n",
      "\u001b[01;34mdev\u001b[0m   \u001b[01;36minitrd.img.old\u001b[0m  \u001b[01;34mmedia\u001b[0m       \u001b[01;34mroot\u001b[0m  \u001b[01;34msys\u001b[0m   \u001b[01;34mvar\u001b[0m\r\n",
      "\u001b[01;34metc\u001b[0m   \u001b[01;34mlib\u001b[0m             \u001b[01;34mmnt\u001b[0m         \u001b[01;34mrun\u001b[0m   \u001b[30;42mtmp\u001b[0m   \u001b[01;36mvmlinuz\u001b[0m\r\n"
     ]
    }
   ],
   "source": [
    "ls /"
   ]
  },
  {
   "cell_type": "code",
   "execution_count": 32,
   "metadata": {
    "collapsed": false
   },
   "outputs": [
    {
     "name": "stdout",
     "output_type": "stream",
     "text": [
      "\u001b[0m\u001b[01;34mvagrant\u001b[0m\r\n"
     ]
    }
   ],
   "source": [
    "ls /home"
   ]
  },
  {
   "cell_type": "code",
   "execution_count": 33,
   "metadata": {
    "collapsed": false
   },
   "outputs": [
    {
     "name": "stdout",
     "output_type": "stream",
     "text": [
      "20150901-lecture-01-typing.txt  \u001b[0m\u001b[01;34mDownloads\u001b[0m  pride.txt  \u001b[01;34mrepos\u001b[0m\r\n",
      "\u001b[01;34mapps\u001b[0m                            foo.txt    \u001b[01;34mPublic\u001b[0m     \u001b[01;34mtools\u001b[0m\r\n",
      "\u001b[01;34mDesktop\u001b[0m                         \u001b[01;34mnotebooks\u001b[0m  \u001b[01;34mR\u001b[0m          \u001b[01;34mwarehousing-course\u001b[0m\r\n"
     ]
    }
   ],
   "source": [
    "ls /home/vagrant"
   ]
  },
  {
   "cell_type": "code",
   "execution_count": 34,
   "metadata": {
    "collapsed": false
   },
   "outputs": [
    {
     "name": "stdout",
     "output_type": "stream",
     "text": [
      "assignment-01.md  LICENSE    README-vm-installation.txt  Syllabus.pdf\r\n",
      "\u001b[0m\u001b[01;34mlectures\u001b[0m          README.md  Schedule.pdf\r\n"
     ]
    }
   ],
   "source": [
    "ls /home/vagrant/warehousing-course"
   ]
  },
  {
   "cell_type": "code",
   "execution_count": 35,
   "metadata": {
    "collapsed": false
   },
   "outputs": [
    {
     "name": "stdout",
     "output_type": "stream",
     "text": [
      "20150901-week-01.ipynb  siddhartha.txt\r\n"
     ]
    }
   ],
   "source": [
    "ls /home/vagrant/warehousing-course/lectures"
   ]
  },
  {
   "cell_type": "markdown",
   "metadata": {},
   "source": [
    "Fyi, that directory ```/home/vagrant``` is special, it's know as your \"home directory\".  There are a lot of extra configuration files in there:"
   ]
  },
  {
   "cell_type": "code",
   "execution_count": 36,
   "metadata": {
    "collapsed": false
   },
   "outputs": [
    {
     "name": "stdout",
     "output_type": "stream",
     "text": [
      "\u001b[0m\u001b[01;34m.\u001b[0m                               \u001b[01;34m.go\u001b[0m                 \u001b[01;34mrepos\u001b[0m\r\n",
      "\u001b[01;34m..\u001b[0m                              .ICEauthority       .Rhistory\r\n",
      "20150901-lecture-01-typing.txt  \u001b[01;34m.ipynb_checkpoints\u001b[0m  \u001b[01;34m.rstudio-desktop\u001b[0m\r\n",
      "\u001b[01;34m.ansible\u001b[0m                        \u001b[01;34m.ipython\u001b[0m            .scala_history\r\n",
      "\u001b[01;34mapps\u001b[0m                            \u001b[01;34m.julia\u001b[0m              .spark_history\r\n",
      ".bash_aliases                   .julia_history      \u001b[01;34m.spyder\u001b[0m\r\n",
      ".bash_history                   \u001b[01;34m.jupyter\u001b[0m            \u001b[01;34m.spyder2\u001b[0m\r\n",
      ".bash_logout                    \u001b[01;34m.local\u001b[0m              \u001b[01;34m.spyder2-py3\u001b[0m\r\n",
      ".bashrc                         \u001b[01;34m.m2\u001b[0m                 .sqlite_history\r\n",
      ".bashrc-anaconda.bak            \u001b[01;34m.mysql\u001b[0m              \u001b[01;34m.ssh\u001b[0m\r\n",
      "\u001b[01;34m.cache\u001b[0m                          .mysql_history      \u001b[01;34mtools\u001b[0m\r\n",
      "\u001b[01;34m.config\u001b[0m                         \u001b[01;34mnotebooks\u001b[0m           .vboxclient-clipboard.pid\r\n",
      "\u001b[01;34m.continuum\u001b[0m                      \u001b[01;34m.pip\u001b[0m                .vboxclient-display.pid\r\n",
      "\u001b[01;34m.dbus\u001b[0m                           \u001b[01;34m.pki\u001b[0m                .vboxclient-draganddrop.pid\r\n",
      "\u001b[01;34mDesktop\u001b[0m                         pride.txt           .vboxclient-seamless.pid\r\n",
      "\u001b[01;34mDownloads\u001b[0m                       .profile            .vbox_version\r\n",
      "foo.txt                         .psql_history       .viminfo\r\n",
      "\u001b[01;34m.gconf\u001b[0m                          \u001b[01;34mPublic\u001b[0m              \u001b[01;34mwarehousing-course\u001b[0m\r\n",
      "\u001b[01;34m.gnome2\u001b[0m                         .python_history     \u001b[01;34m.zinc\u001b[0m\r\n",
      "\u001b[01;34m.gnupg\u001b[0m                          \u001b[01;34mR\u001b[0m\r\n"
     ]
    }
   ],
   "source": [
    "ls -a /home/vagrant"
   ]
  },
  {
   "cell_type": "markdown",
   "metadata": {},
   "source": [
    "Your home directory has a special shortcut, ```~```.  Try:"
   ]
  },
  {
   "cell_type": "code",
   "execution_count": 37,
   "metadata": {
    "collapsed": false
   },
   "outputs": [
    {
     "name": "stdout",
     "output_type": "stream",
     "text": [
      "\u001b[0m\u001b[01;34m.\u001b[0m                               \u001b[01;34m.go\u001b[0m                 \u001b[01;34mrepos\u001b[0m\r\n",
      "\u001b[01;34m..\u001b[0m                              .ICEauthority       .Rhistory\r\n",
      "20150901-lecture-01-typing.txt  \u001b[01;34m.ipynb_checkpoints\u001b[0m  \u001b[01;34m.rstudio-desktop\u001b[0m\r\n",
      "\u001b[01;34m.ansible\u001b[0m                        \u001b[01;34m.ipython\u001b[0m            .scala_history\r\n",
      "\u001b[01;34mapps\u001b[0m                            \u001b[01;34m.julia\u001b[0m              .spark_history\r\n",
      ".bash_aliases                   .julia_history      \u001b[01;34m.spyder\u001b[0m\r\n",
      ".bash_history                   \u001b[01;34m.jupyter\u001b[0m            \u001b[01;34m.spyder2\u001b[0m\r\n",
      ".bash_logout                    \u001b[01;34m.local\u001b[0m              \u001b[01;34m.spyder2-py3\u001b[0m\r\n",
      ".bashrc                         \u001b[01;34m.m2\u001b[0m                 .sqlite_history\r\n",
      ".bashrc-anaconda.bak            \u001b[01;34m.mysql\u001b[0m              \u001b[01;34m.ssh\u001b[0m\r\n",
      "\u001b[01;34m.cache\u001b[0m                          .mysql_history      \u001b[01;34mtools\u001b[0m\r\n",
      "\u001b[01;34m.config\u001b[0m                         \u001b[01;34mnotebooks\u001b[0m           .vboxclient-clipboard.pid\r\n",
      "\u001b[01;34m.continuum\u001b[0m                      \u001b[01;34m.pip\u001b[0m                .vboxclient-display.pid\r\n",
      "\u001b[01;34m.dbus\u001b[0m                           \u001b[01;34m.pki\u001b[0m                .vboxclient-draganddrop.pid\r\n",
      "\u001b[01;34mDesktop\u001b[0m                         pride.txt           .vboxclient-seamless.pid\r\n",
      "\u001b[01;34mDownloads\u001b[0m                       .profile            .vbox_version\r\n",
      "foo.txt                         .psql_history       .viminfo\r\n",
      "\u001b[01;34m.gconf\u001b[0m                          \u001b[01;34mPublic\u001b[0m              \u001b[01;34mwarehousing-course\u001b[0m\r\n",
      "\u001b[01;34m.gnome2\u001b[0m                         .python_history     \u001b[01;34m.zinc\u001b[0m\r\n",
      "\u001b[01;34m.gnupg\u001b[0m                          \u001b[01;34mR\u001b[0m\r\n"
     ]
    }
   ],
   "source": [
    "ls -a ~"
   ]
  },
  {
   "cell_type": "markdown",
   "metadata": {},
   "source": [
    "You can even connect that shortcut with relative path segments, like this:"
   ]
  },
  {
   "cell_type": "code",
   "execution_count": 38,
   "metadata": {
    "collapsed": false
   },
   "outputs": [
    {
     "name": "stdout",
     "output_type": "stream",
     "text": [
      "\u001b[0m\u001b[01;34m.\u001b[0m  \u001b[01;34m..\u001b[0m  20150901-week-01.ipynb  \u001b[01;34m.ipynb_checkpoints\u001b[0m  siddhartha.txt\r\n"
     ]
    }
   ],
   "source": [
    "ls -a ~/warehousing-course/lectures"
   ]
  },
  {
   "cell_type": "markdown",
   "metadata": {},
   "source": [
    "Btw, all those ```.bash``` files are your account's bash configuration, for example.  You can also see there are history files for mysql, julia, python, psql, R, scala, and spark.  These are all from when I was setting those up, but as soon as you start using them, they'll grow as you use each.\n",
    "\n",
    "## Creating and removing files\n",
    "\n",
    "Let's look at adding and removing files.  First, we can create a file that doesn't really have anything in it with ```touch```:"
   ]
  },
  {
   "cell_type": "code",
   "execution_count": 39,
   "metadata": {
    "collapsed": false
   },
   "outputs": [
    {
     "name": "stdout",
     "output_type": "stream",
     "text": []
    }
   ],
   "source": [
    "touch foo"
   ]
  },
  {
   "cell_type": "code",
   "execution_count": 40,
   "metadata": {
    "collapsed": false
   },
   "outputs": [
    {
     "name": "stdout",
     "output_type": "stream",
     "text": [
      "-rw-rw-r-- 1 vagrant vagrant 0 Sep  4 08:26 foo\r\n"
     ]
    }
   ],
   "source": [
    "ls -l foo"
   ]
  },
  {
   "cell_type": "markdown",
   "metadata": {},
   "source": [
    "```touch``` just creates an empty file.  See how its byte count is 0?\n",
    "\n",
    "We can remove files with ```rm```, \"ReMove\"."
   ]
  },
  {
   "cell_type": "code",
   "execution_count": 41,
   "metadata": {
    "collapsed": false
   },
   "outputs": [
    {
     "name": "stdout",
     "output_type": "stream",
     "text": []
    }
   ],
   "source": [
    "rm -f foo"
   ]
  },
  {
   "cell_type": "markdown",
   "metadata": {},
   "source": [
    "I added the ```-f``` flag because ```rm``` is configured to confirm first whether a removal should really happen or not.  The ```-i``` flag does that, aka ```rm -i```.  In fact using ```rm -i``` instead of ```rm``` is such a good idea that I created an alias for it, so that every time you type ```rm``` -- which doesn't normally confirm removal, it just goes ahead -- it will instead run ```rm -i```, which will check with you before proceeding.  ```rm -f``` means \"force it\", i.e. \"don't confirm.\"\n",
    "\n",
    "NOTE: this only works directly in the bash shell... not here in jupyter.  If you try it, and jupyter hangs with the line just showing a ```*``` next to it, use Kernel -> Restart to drop that connection and restart the kernel again.\n",
    "\n",
    "How do you know what aliases exist?  Just ask:"
   ]
  },
  {
   "cell_type": "code",
   "execution_count": 42,
   "metadata": {
    "collapsed": false
   },
   "outputs": [
    {
     "name": "stdout",
     "output_type": "stream",
     "text": [
      "alias alert='notify-send --urgency=low -i \"$([ $? = 0 ] && echo terminal || echo error)\" \"$(history|tail -n1|sed -e '\\''s/^\\s*[0-9]\\+\\s*//;s/[;&|]\\s*alert$//'\\'')\"'\r\n",
      "alias doadance='echo \"-=-=-=-=-=-=-=-=-=-\"'\r\n",
      "alias egrep='egrep --color=auto'\r\n",
      "alias fgrep='fgrep --color=auto'\r\n",
      "alias grep='grep --color=auto'\r\n",
      "alias l='ls -CF'\r\n",
      "alias la='ls -A'\r\n",
      "alias ll='ls -alF'\r\n",
      "alias ls='ls --color=auto'\r\n",
      "alias rm='rm -i'\r\n"
     ]
    }
   ],
   "source": [
    "alias"
   ]
  },
  {
   "cell_type": "code",
   "execution_count": 43,
   "metadata": {
    "collapsed": false
   },
   "outputs": [
    {
     "name": "stdout",
     "output_type": "stream",
     "text": [
      "-=-=-=-=-=-=-=-=-=-\r\n"
     ]
    }
   ],
   "source": [
    "doadance"
   ]
  },
  {
   "cell_type": "markdown",
   "metadata": {},
   "source": [
    "Remember when I added ```doadance``` in class?  I added it to the ```.bash_aliases``` file, where you can put your own custom aliases.\n",
    "\n",
    "## Looking at files, flows, and pipes\n",
    "\n",
    "To look at what's in a file, use ```cat```, which stands for \"concatenate.\""
   ]
  },
  {
   "cell_type": "code",
   "execution_count": 44,
   "metadata": {
    "collapsed": false
   },
   "outputs": [
    {
     "name": "stdout",
     "output_type": "stream",
     "text": [
      "alias rm=\"rm -i\"\r\n",
      "alias doadance='echo \"-=-=-=-=-=-=-=-=-=-\"'\r\n"
     ]
    }
   ],
   "source": [
    "cat ~/.bash_aliases"
   ]
  },
  {
   "cell_type": "markdown",
   "metadata": {},
   "source": [
    "If you want to add your own silly alias, try editing ```~/.bash_aliases``` with ```nano```.  After that, type ```source ~/.bash_aliases```.  ```source``` says \"read in and act on the commands in this file.\"  When you first log in, or open any new terminal window, all those config files get \"sourced\" like that, including your ```.bash_aliases```.  So when you make a change like you could with ```nano```, you just need to then source it yourself."
   ]
  },
  {
   "cell_type": "markdown",
   "metadata": {},
   "source": [
    "The next thing we talked about was looking at long files.  We looked at recursive directory listings using ```ls -R```.  Try that in your bash shell.\n",
    "\n",
    "Go ahead, open a new shell window and type ```ls -R ~```.  It's okay, I'll wait.\n",
    "\n",
    "It's a lot of stuff, right?  It flies by too fast to read.  What would be better is to be able to read it one page at a time.  Fortunately, there's a command for that, a \"pager\", called ```more```.\n",
    "\n",
    "Try this -- again, do it in a bash window, not in the notebook ---:\n",
    "\n",
    "```ls -R ~ | more```\n",
    "\n",
    "\"Give me a recursive listing of all files in my home directory and pipe the list through the more pager.\"\n",
    "\n",
    "To page ahead, just type the space bar key.  If you get bored and want to quit, just type 'q'."
   ]
  },
  {
   "cell_type": "markdown",
   "metadata": {},
   "source": [
    "That pipe -- the vertical bar character, ```|```, is *very* important.  It takes the output of the command before it and hooks it up as input to the command after it.  We will be doing a lot of stuff with pipes, or \"pipelines\".\n",
    "\n",
    "For example, to look at only a part of a file -- sometimes you just want to see the beginning, or the end, or a sampling -- there are commands for that too.  ```head``` and ```tail``` do what you might expect:"
   ]
  },
  {
   "cell_type": "code",
   "execution_count": 45,
   "metadata": {
    "collapsed": false
   },
   "outputs": [
    {
     "name": "stdout",
     "output_type": "stream",
     "text": [
      "/home/vagrant:\r\n",
      "total 936\r\n",
      "drwxr-xr-x 35 vagrant vagrant   4096 Sep  3 16:49 .\r\n",
      "drwxr-xr-x  3 root    root      4096 Sep 23  2014 ..\r\n",
      "-rw-rw-r--  1 vagrant vagrant   3155 Sep  3 16:34 20150901-lecture-01-typing.txt\r\n",
      "drwxrwxr-x  3 vagrant vagrant   4096 Sep 23  2014 .ansible\r\n",
      "drwxrwxr-x  4 vagrant vagrant   4096 Aug 26 17:46 apps\r\n",
      "-rw-rw-r--  1 vagrant vagrant     61 Sep  1 21:20 .bash_aliases\r\n",
      "-rw-------  1 vagrant vagrant   6094 Sep  3 18:20 .bash_history\r\n",
      "-rw-r--r--  1 vagrant vagrant    220 Sep 23  2014 .bash_logout\r\n",
      "ls: write error: Broken pipe\r\n"
     ]
    }
   ],
   "source": [
    "ls -laR ~ | head"
   ]
  },
  {
   "cell_type": "markdown",
   "metadata": {},
   "source": [
    "(don't worry about the \"write error: Broken pipe\" bit... that's a little funky thing with the bash kernel, we can ignore it here.)"
   ]
  },
  {
   "cell_type": "code",
   "execution_count": 46,
   "metadata": {
    "collapsed": false
   },
   "outputs": [
    {
     "name": "stdout",
     "output_type": "stream",
     "text": [
      "total 12\r\n",
      "drwxrwxr-x 3 vagrant vagrant 4096 Aug 21 00:37 .\r\n",
      "drwxrwxr-x 3 vagrant vagrant 4096 Aug 21 00:37 ..\r\n",
      "drwxrwxr-x 2 vagrant vagrant 4096 Aug 21 00:37 compiler-interface-2.10.4-51.0\r\n",
      "\r\n",
      "/home/vagrant/.zinc/0.3.5/compiler-interface-2.10.4-51.0:\r\n",
      "total 244\r\n",
      "drwxrwxr-x 2 vagrant vagrant   4096 Aug 21 00:37 .\r\n",
      "drwxrwxr-x 3 vagrant vagrant   4096 Aug 21 00:37 ..\r\n",
      "-rw-rw-r-- 1 vagrant vagrant 240885 Aug 21 00:37 compiler-interface.jar\r\n"
     ]
    }
   ],
   "source": [
    "ls -laR ~ | tail"
   ]
  },
  {
   "cell_type": "markdown",
   "metadata": {},
   "source": [
    "Both head and tail take a simple flag, a count of lines to show."
   ]
  },
  {
   "cell_type": "code",
   "execution_count": 47,
   "metadata": {
    "collapsed": false
   },
   "outputs": [
    {
     "name": "stdout",
     "output_type": "stream",
     "text": [
      "20150901-lecture-01-typing.txt\r\n",
      "apps\r\n",
      "Desktop\r\n"
     ]
    }
   ],
   "source": [
    "ls ~ | head -3"
   ]
  },
  {
   "cell_type": "code",
   "execution_count": 48,
   "metadata": {
    "collapsed": false
   },
   "outputs": [
    {
     "name": "stdout",
     "output_type": "stream",
     "text": [
      "pride.txt\r\n",
      "Public\r\n",
      "R\r\n",
      "repos\r\n",
      "tools\r\n",
      "warehousing-course\r\n"
     ]
    }
   ],
   "source": [
    "ls ~ | tail -6"
   ]
  },
  {
   "cell_type": "markdown",
   "metadata": {},
   "source": [
    "Another command, ```seq```, generates sequences, like so:"
   ]
  },
  {
   "cell_type": "code",
   "execution_count": 49,
   "metadata": {
    "collapsed": false
   },
   "outputs": [
    {
     "name": "stdout",
     "output_type": "stream",
     "text": [
      "1\r\n",
      "2\r\n",
      "3\r\n",
      "4\r\n",
      "5\r\n",
      "6\r\n",
      "7\r\n",
      "8\r\n",
      "9\r\n",
      "10\r\n"
     ]
    }
   ],
   "source": [
    "seq 10"
   ]
  },
  {
   "cell_type": "markdown",
   "metadata": {},
   "source": [
    "So it might be better to show off ```head``` and ```tail``` with ```seq``` and a pipe:"
   ]
  },
  {
   "cell_type": "code",
   "execution_count": 50,
   "metadata": {
    "collapsed": false
   },
   "outputs": [
    {
     "name": "stdout",
     "output_type": "stream",
     "text": [
      "1\r\n",
      "2\r\n",
      "3\r\n"
     ]
    }
   ],
   "source": [
    "seq 10 | head -3"
   ]
  },
  {
   "cell_type": "code",
   "execution_count": 51,
   "metadata": {
    "collapsed": false
   },
   "outputs": [
    {
     "name": "stdout",
     "output_type": "stream",
     "text": [
      "5\r\n",
      "6\r\n",
      "7\r\n",
      "8\r\n",
      "9\r\n",
      "10\r\n"
     ]
    }
   ],
   "source": [
    "seq 10 | tail -6"
   ]
  },
  {
   "cell_type": "markdown",
   "metadata": {},
   "source": [
    "What if you want a random sample, picking ten items from 1000 (a 1% sample)?"
   ]
  },
  {
   "cell_type": "code",
   "execution_count": 52,
   "metadata": {
    "collapsed": false
   },
   "outputs": [
    {
     "name": "stdout",
     "output_type": "stream",
     "text": [
      "371\r\n",
      "654\r\n",
      "706\r\n",
      "197\r\n",
      "959\r\n",
      "70\r\n",
      "198\r\n",
      "964\r\n",
      "148\r\n",
      "246\r\n"
     ]
    }
   ],
   "source": [
    "seq 1000 | shuf -n 10"
   ]
  },
  {
   "cell_type": "markdown",
   "metadata": {},
   "source": [
    "See how that worked?  ```seq``` generated a population, and ```shuf``` sampled 10 items from it."
   ]
  },
  {
   "cell_type": "markdown",
   "metadata": {},
   "source": [
    "## Searching and sorting\n",
    "\n",
    "Let's add a few more commands then put it all together.  We can visit a great site like [Project Gutenber's top 100 texts](https://www.gutenberg.org/browse/scores/top) and grab the [raw text of a book like Siddhartha](https://www.gutenberg.org/ebooks/2500.txt.utf-8). ```wget``` is a useful command for getting a single (or more) web pages from the web and storing it locally, like this:"
   ]
  },
  {
   "cell_type": "code",
   "execution_count": 53,
   "metadata": {
    "collapsed": false
   },
   "outputs": [
    {
     "name": "stdout",
     "output_type": "stream",
     "text": [
      "--2015-09-04 08:27:09--  https://www.gutenberg.org/ebooks/2500.txt.utf-8\r\n",
      "Resolving www.gutenberg.org (www.gutenberg.org)... 152.19.134.47\r\n",
      "Connecting to www.gutenberg.org (www.gutenberg.org)|152.19.134.47|:443... connected.\r\n",
      "HTTP request sent, awaiting response... 302 Found\r\n",
      "Location: https://www.gutenberg.org/cache/epub/2500/pg2500.txt [following]\r\n",
      "--2015-09-04 08:27:09--  https://www.gutenberg.org/cache/epub/2500/pg2500.txt\r\n",
      "Connecting to www.gutenberg.org (www.gutenberg.org)|152.19.134.47|:443... connected.\r\n",
      "HTTP request sent, awaiting response... 200 OK\r\n",
      "Length: 241176 (236K) [text/plain]\r\n",
      "Saving to: ‘2500.txt.utf-8’\r\n",
      "\r\n",
      "\r",
      " 0% [                                       ] 0           --.-K/s              \r",
      "30% [==========>                            ] 73,728       340KB/s             \r",
      "98% [=====================================> ] 237,568      556KB/s             \r",
      "100%[======================================>] 241,176      564KB/s   in 0.4s   \r\n",
      "\r\n",
      "2015-09-04 08:27:10 (564 KB/s) - ‘2500.txt.utf-8’ saved [241176/241176]\r\n",
      "\r\n"
     ]
    }
   ],
   "source": [
    "wget https://www.gutenberg.org/ebooks/2500.txt.utf-8"
   ]
  },
  {
   "cell_type": "code",
   "execution_count": 54,
   "metadata": {
    "collapsed": false
   },
   "outputs": [
    {
     "name": "stdout",
     "output_type": "stream",
     "text": []
    }
   ],
   "source": [
    "mv 2500.txt.utf-8 siddhartha.txt"
   ]
  },
  {
   "cell_type": "code",
   "execution_count": 55,
   "metadata": {
    "collapsed": false
   },
   "outputs": [
    {
     "name": "stdout",
     "output_type": "stream",
     "text": [
      "-rw-rw-r-- 1 vagrant vagrant 241176 Sep  4 08:27 siddhartha.txt\r\n"
     ]
    }
   ],
   "source": [
    "ls -l siddhartha.txt"
   ]
  },
  {
   "cell_type": "markdown",
   "metadata": {},
   "source": [
    "Yep, 241,176 bytes, looks right.  Let's search for the word \"river\" in the text, using ```grep```:"
   ]
  },
  {
   "cell_type": "code",
   "execution_count": 56,
   "metadata": {
    "collapsed": false
   },
   "outputs": [
    {
     "name": "stdout",
     "output_type": "stream",
     "text": [
      "In the shade of the house, in the sunshine of the riverbank near the\r",
      "\r\n",
      "tanned his light shoulders by the banks of the river when bathing,\r",
      "\r\n",
      "came into his mind, flowing from the water of the river, sparkling from\r",
      "\r\n",
      "the river and to perform the first ablution.\"\r",
      "\r\n",
      "the same short numbing is what the driver of an ox-cart finds in the\r",
      "\r\n",
      "is no driver of an ox-cart and a Samana is no drunkard.  It's true that\r",
      "\r\n",
      "submerged in the murky river of physical forms.  Many wonderful and\r",
      "\r\n",
      "and the river flowed, the forest and the mountains were rigid, all of it\r",
      "\r\n",
      "all this yellow and blue, river and forest, entered Siddhartha for the\r",
      "\r\n",
      "who scorns diversity, who seeks unity.  Blue was blue, river was river,\r",
      "\r\n",
      "grep: write error: Broken pipe\r\n"
     ]
    }
   ],
   "source": [
    "grep river siddhartha.txt | head"
   ]
  },
  {
   "cell_type": "markdown",
   "metadata": {},
   "source": [
    "Hmm, that's not that useful, it would be more useful to know the line numbers:"
   ]
  },
  {
   "cell_type": "code",
   "execution_count": 57,
   "metadata": {
    "collapsed": false
   },
   "outputs": [
    {
     "name": "stdout",
     "output_type": "stream",
     "text": [
      "52:In the shade of the house, in the sunshine of the riverbank near the\r",
      "\r\n",
      "56:tanned his light shoulders by the banks of the river when bathing,\r",
      "\r\n",
      "107:came into his mind, flowing from the water of the river, sparkling from\r",
      "\r\n",
      "329:the river and to perform the first ablution.\"\r",
      "\r\n",
      "460:the same short numbing is what the driver of an ox-cart finds in the\r",
      "\r\n",
      "469:is no driver of an ox-cart and a Samana is no drunkard.  It's true that\r",
      "\r\n",
      "580:submerged in the murky river of physical forms.  Many wonderful and\r",
      "\r\n",
      "1062:and the river flowed, the forest and the mountains were rigid, all of it\r",
      "\r\n",
      "1065:all this yellow and blue, river and forest, entered Siddhartha for the\r",
      "\r\n",
      "1069:who scorns diversity, who seeks unity.  Blue was blue, river was river,\r",
      "\r\n",
      "grep: write error: Broken pipe\r\n"
     ]
    }
   ],
   "source": [
    "grep -n river siddhartha.txt | head"
   ]
  },
  {
   "cell_type": "markdown",
   "metadata": {},
   "source": [
    "And come to think of it, that's only finding \"river\", but not \"River\". Does \"River\" appear at all?"
   ]
  },
  {
   "cell_type": "code",
   "execution_count": 58,
   "metadata": {
    "collapsed": false
   },
   "outputs": [
    {
     "name": "stdout",
     "output_type": "stream",
     "text": []
    }
   ],
   "source": [
    "grep -n River siddhartha.txt | head"
   ]
  },
  {
   "cell_type": "markdown",
   "metadata": {},
   "source": [
    "Guess not!\n",
    "\n",
    "But the word \"blue\" appears as \"Blue\".  I bet it appears as both.  There's a flag for that, a case-insensitive ```grep```:"
   ]
  },
  {
   "cell_type": "code",
   "execution_count": 59,
   "metadata": {
    "collapsed": false
   },
   "outputs": [
    {
     "name": "stdout",
     "output_type": "stream",
     "text": [
      "1061:was the world!  Here was blue, here was yellow, here was green, the sky\r",
      "\r\n",
      "1065:all this yellow and blue, river and forest, entered Siddhartha for the\r",
      "\r\n",
      "1069:who scorns diversity, who seeks unity.  Blue was blue, river was river,\r",
      "\r\n",
      "1070:and if also in the blue and the river, in Siddhartha, the singular and\r",
      "\r\n",
      "1072:purpose, to be here yellow, here blue, there sky, there forest, and here\r",
      "\r\n",
      "1152:a boat in the blue.  He saw trees, stars, animals, clouds, rainbows,\r",
      "\r\n",
      "1154:bushes in the morning, distant high mountains which were blue and\r",
      "\r\n",
      "2616:the reflecting surface, the blue of the sky being depicted in it.  With\r",
      "\r\n",
      "2618:ones, with crystal ones, with sky-blue ones.  How did he love this\r",
      "\r\n"
     ]
    }
   ],
   "source": [
    "grep -in blue siddhartha.txt | head"
   ]
  },
  {
   "cell_type": "markdown",
   "metadata": {},
   "source": [
    "```grep``` takes options, then one argument which is a token or pattern to search for, then a second or more options which are file names to search within.  We'll see more examples of these later.\n",
    "\n",
    "In the meantime, let's play with sorting things a bit.  Back to sequences, let's try sorting a list of numbers:"
   ]
  },
  {
   "cell_type": "code",
   "execution_count": 60,
   "metadata": {
    "collapsed": false
   },
   "outputs": [
    {
     "name": "stdout",
     "output_type": "stream",
     "text": [
      "10\r\n",
      "11\r\n",
      "12\r\n",
      "13\r\n",
      "14\r\n",
      "15\r\n",
      "16\r\n",
      "17\r\n",
      "18\r\n",
      "19\r\n",
      "20\r\n"
     ]
    }
   ],
   "source": [
    "seq 10 20 | sort"
   ]
  },
  {
   "cell_type": "markdown",
   "metadata": {},
   "source": [
    "Well, that's silly, they're already sorted.  Let's do something more complicated:"
   ]
  },
  {
   "cell_type": "code",
   "execution_count": 61,
   "metadata": {
    "collapsed": false
   },
   "outputs": [
    {
     "name": "stdout",
     "output_type": "stream",
     "text": [
      "13\r\n",
      "23\r\n",
      "25\r\n",
      "4\r\n",
      "48\r\n",
      "56\r\n",
      "57\r\n",
      "6\r\n",
      "84\r\n",
      "87\r\n"
     ]
    }
   ],
   "source": [
    "seq 100 | shuf -n 10 | sort"
   ]
  },
  {
   "cell_type": "markdown",
   "metadata": {},
   "source": [
    "Wait, what just happened?\n",
    "\n",
    "* Get a sequence of numbers, 1 - 100\n",
    "* pipe that into ```shuf``` and sample 10 items from that\n",
    "* pipe that into sort, and get a sorted result\n",
    "\n",
    "But it doesn't *look* sorted... 100 comes before 24.  That's because it's doing a *character* sort, not a numeric one.  Good thing there's a flag for that."
   ]
  },
  {
   "cell_type": "code",
   "execution_count": 62,
   "metadata": {
    "collapsed": false
   },
   "outputs": [
    {
     "name": "stdout",
     "output_type": "stream",
     "text": [
      "2\r\n",
      "5\r\n",
      "6\r\n",
      "17\r\n",
      "24\r\n",
      "37\r\n",
      "38\r\n",
      "59\r\n",
      "75\r\n",
      "87\r\n"
     ]
    }
   ],
   "source": [
    "seq 100 | shuf -n 10 | sort -n"
   ]
  },
  {
   "cell_type": "markdown",
   "metadata": {},
   "source": [
    "Much better.  Remember man pages?  They're kind of long.  Many commands have a shorter form of help, available through an option ```-h``` or ```--help```:"
   ]
  },
  {
   "cell_type": "code",
   "execution_count": 63,
   "metadata": {
    "collapsed": false
   },
   "outputs": [
    {
     "name": "stdout",
     "output_type": "stream",
     "text": [
      "Usage: sort [OPTION]... [FILE]...\r\n",
      "  or:  sort [OPTION]... --files0-from=F\r\n",
      "Write sorted concatenation of all FILE(s) to standard output.\r\n",
      "\r\n",
      "Mandatory arguments to long options are mandatory for short options too.\r\n",
      "Ordering options:\r\n",
      "\r\n",
      "  -b, --ignore-leading-blanks  ignore leading blanks\r\n",
      "  -d, --dictionary-order      consider only blanks and alphanumeric characters\r\n",
      "  -f, --ignore-case           fold lower case to upper case characters\r\n",
      "  -g, --general-numeric-sort  compare according to general numerical value\r\n",
      "  -i, --ignore-nonprinting    consider only printable characters\r\n",
      "  -M, --month-sort            compare (unknown) < 'JAN' < ... < 'DEC'\r\n",
      "  -h, --human-numeric-sort    compare human readable numbers (e.g., 2K 1G)\r\n",
      "  -n, --numeric-sort          compare according to string numerical value\r\n",
      "  -R, --random-sort           sort by random hash of keys\r\n",
      "      --random-source=FILE    get random bytes from FILE\r\n",
      "  -r, --reverse               reverse the result of comparisons\r\n",
      "      --sort=WORD             sort according to WORD:\r\n",
      "                                general-numeric -g, human-numeric -h, month -M,\r\n",
      "                                numeric -n, random -R, version -V\r\n",
      "  -V, --version-sort          natural sort of (version) numbers within text\r\n",
      "\r\n",
      "Other options:\r\n",
      "\r\n",
      "      --batch-size=NMERGE   merge at most NMERGE inputs at once;\r\n",
      "                            for more use temp files\r\n",
      "  -c, --check, --check=diagnose-first  check for sorted input; do not sort\r\n",
      "  -C, --check=quiet, --check=silent  like -c, but do not report first bad line\r\n",
      "      --compress-program=PROG  compress temporaries with PROG;\r\n",
      "                              decompress them with PROG -d\r\n",
      "      --debug               annotate the part of the line used to sort,\r\n",
      "                              and warn about questionable usage to stderr\r\n",
      "      --files0-from=F       read input from the files specified by\r\n",
      "                            NUL-terminated names in file F;\r\n",
      "                            If F is - then read names from standard input\r\n",
      "  -k, --key=KEYDEF          sort via a key; KEYDEF gives location and type\r\n",
      "  -m, --merge               merge already sorted files; do not sort\r\n",
      "  -o, --output=FILE         write result to FILE instead of standard output\r\n",
      "  -s, --stable              stabilize sort by disabling last-resort comparison\r\n",
      "  -S, --buffer-size=SIZE    use SIZE for main memory buffer\r\n",
      "  -t, --field-separator=SEP  use SEP instead of non-blank to blank transition\r\n",
      "  -T, --temporary-directory=DIR  use DIR for temporaries, not $TMPDIR or /tmp;\r\n",
      "                              multiple options specify multiple directories\r\n",
      "      --parallel=N          change the number of sorts run concurrently to N\r\n",
      "  -u, --unique              with -c, check for strict ordering;\r\n",
      "                              without -c, output only the first of an equal run\r\n",
      "  -z, --zero-terminated     end lines with 0 byte, not newline\r\n",
      "      --help     display this help and exit\r\n",
      "      --version  output version information and exit\r\n",
      "\r\n",
      "KEYDEF is F[.C][OPTS][,F[.C][OPTS]] for start and stop position, where F is a\r\n",
      "field number and C a character position in the field; both are origin 1, and\r\n",
      "the stop position defaults to the line's end.  If neither -t nor -b is in\r\n",
      "effect, characters in a field are counted from the beginning of the preceding\r\n",
      "whitespace.  OPTS is one or more single-letter ordering options [bdfgiMhnRrV],\r\n",
      "which override global ordering options for that key.  If no key is given, use\r\n",
      "the entire line as the key.\r\n",
      "\r\n",
      "SIZE may be followed by the following multiplicative suffixes:\r\n",
      "% 1% of memory, b 1, K 1024 (default), and so on for M, G, T, P, E, Z, Y.\r\n",
      "\r\n",
      "With no FILE, or when FILE is -, read standard input.\r\n",
      "\r\n",
      "*** WARNING ***\r\n",
      "The locale specified by the environment affects sort order.\r\n",
      "Set LC_ALL=C to get the traditional sort order that uses\r\n",
      "native byte values.\r\n",
      "\r\n",
      "Report sort bugs to bug-coreutils@gnu.org\r\n",
      "GNU coreutils home page: <http://www.gnu.org/software/coreutils/>\r\n",
      "General help using GNU software: <http://www.gnu.org/gethelp/>\r\n",
      "For complete documentation, run: info coreutils 'sort invocation'\r\n"
     ]
    }
   ],
   "source": [
    "sort --help"
   ]
  },
  {
   "cell_type": "markdown",
   "metadata": {},
   "source": [
    "See, lots of options. :)\n",
    "\n",
    "## A data analysis task\n",
    "\n",
    "Let's put this all together and demonstrate a typical simple command line pipeline that performs a very useful data preparation task for text processing:  counting words in a text.  What do we need to do to get a count of the most-used words in a text?\n",
    "\n",
    "* get a list of all the words\n",
    "* lower-case them all\n",
    "* sort them all (well, not necessarily, but it helps here)\n",
    "* get a count of each one\n",
    "* sort that resulting list numerically\n",
    "\n",
    "Let's do that, it will require a few new commands and new options on a few commands you've already seen.\n",
    "\n",
    "First, we need to split up lines of text into individual words per line.\n",
    "\n",
    "(I'll just start with the first three lines to keep output minimal.)"
   ]
  },
  {
   "cell_type": "code",
   "execution_count": 64,
   "metadata": {
    "collapsed": false
   },
   "outputs": [
    {
     "name": "stdout",
     "output_type": "stream",
     "text": [
      "﻿The Project Gutenberg EBook of Siddhartha, by Herman Hesse\r",
      "\r\n",
      "\r",
      "\r\n",
      "This eBook is for the use of anyone anywhere at no cost and with\r",
      "\r\n"
     ]
    }
   ],
   "source": [
    "head -3 siddhartha.txt"
   ]
  },
  {
   "cell_type": "code",
   "execution_count": 65,
   "metadata": {
    "collapsed": false
   },
   "outputs": [
    {
     "name": "stdout",
     "output_type": "stream",
     "text": [
      "\u001b[01;31m\u001b[KThe\u001b[m\u001b[K\r\n",
      "\u001b[01;31m\u001b[KProject\u001b[m\u001b[K\r\n",
      "\u001b[01;31m\u001b[KGutenberg\u001b[m\u001b[K\r\n",
      "\u001b[01;31m\u001b[KEBook\u001b[m\u001b[K\r\n",
      "\u001b[01;31m\u001b[Kof\u001b[m\u001b[K\r\n",
      "\u001b[01;31m\u001b[KSiddhartha\u001b[m\u001b[K\r\n",
      "\u001b[01;31m\u001b[Kby\u001b[m\u001b[K\r\n",
      "\u001b[01;31m\u001b[KHerman\u001b[m\u001b[K\r\n",
      "\u001b[01;31m\u001b[KHesse\u001b[m\u001b[K\r\n",
      "\u001b[01;31m\u001b[KThis\u001b[m\u001b[K\r\n",
      "\u001b[01;31m\u001b[KeBook\u001b[m\u001b[K\r\n",
      "\u001b[01;31m\u001b[Kis\u001b[m\u001b[K\r\n",
      "\u001b[01;31m\u001b[Kfor\u001b[m\u001b[K\r\n",
      "\u001b[01;31m\u001b[Kthe\u001b[m\u001b[K\r\n",
      "\u001b[01;31m\u001b[Kuse\u001b[m\u001b[K\r\n",
      "\u001b[01;31m\u001b[Kof\u001b[m\u001b[K\r\n",
      "\u001b[01;31m\u001b[Kanyone\u001b[m\u001b[K\r\n",
      "\u001b[01;31m\u001b[Kanywhere\u001b[m\u001b[K\r\n",
      "\u001b[01;31m\u001b[Kat\u001b[m\u001b[K\r\n",
      "\u001b[01;31m\u001b[Kno\u001b[m\u001b[K\r\n",
      "\u001b[01;31m\u001b[Kcost\u001b[m\u001b[K\r\n",
      "\u001b[01;31m\u001b[Kand\u001b[m\u001b[K\r\n",
      "\u001b[01;31m\u001b[Kwith\u001b[m\u001b[K\r\n"
     ]
    }
   ],
   "source": [
    "head -3 siddhartha.txt | grep -oE '\\w{2,}'"
   ]
  },
  {
   "cell_type": "markdown",
   "metadata": {},
   "source": [
    "If we sort that as is, we get:"
   ]
  },
  {
   "cell_type": "code",
   "execution_count": 66,
   "metadata": {
    "collapsed": false
   },
   "outputs": [
    {
     "name": "stdout",
     "output_type": "stream",
     "text": [
      "and\r\n",
      "anyone\r\n",
      "anywhere\r\n",
      "at\r\n",
      "by\r\n",
      "cost\r\n",
      "eBook\r\n",
      "EBook\r\n",
      "for\r\n",
      "Gutenberg\r\n",
      "Herman\r\n",
      "Hesse\r\n",
      "is\r\n",
      "no\r\n",
      "of\r\n",
      "of\r\n",
      "Project\r\n",
      "Siddhartha\r\n",
      "the\r\n",
      "The\r\n",
      "This\r\n",
      "use\r\n",
      "with\r\n"
     ]
    }
   ],
   "source": [
    "head -3 siddhartha.txt | grep -oE '\\w{2,}' | sort"
   ]
  },
  {
   "cell_type": "markdown",
   "metadata": {},
   "source": [
    "Ah, there's the cap/no-cap problem again.  We can use ```tr``` (think \"translate\") to address that:"
   ]
  },
  {
   "cell_type": "code",
   "execution_count": 67,
   "metadata": {
    "collapsed": false
   },
   "outputs": [
    {
     "name": "stdout",
     "output_type": "stream",
     "text": [
      "and\r\n",
      "anyone\r\n",
      "anywhere\r\n",
      "at\r\n",
      "by\r\n",
      "cost\r\n",
      "ebook\r\n",
      "ebook\r\n",
      "for\r\n",
      "gutenberg\r\n",
      "herman\r\n",
      "hesse\r\n",
      "is\r\n",
      "no\r\n",
      "of\r\n",
      "of\r\n",
      "project\r\n",
      "siddhartha\r\n",
      "the\r\n",
      "the\r\n",
      "this\r\n",
      "use\r\n",
      "with\r\n"
     ]
    }
   ],
   "source": [
    "head -3 siddhartha.txt | grep -oE '\\w{2,}' | tr '[:upper:]' '[:lower:]' | sort"
   ]
  },
  {
   "cell_type": "markdown",
   "metadata": {},
   "source": [
    "And then collapse multiple occurences with ```uniq```:"
   ]
  },
  {
   "cell_type": "code",
   "execution_count": 68,
   "metadata": {
    "collapsed": false
   },
   "outputs": [
    {
     "name": "stdout",
     "output_type": "stream",
     "text": [
      "and\r\n",
      "anyone\r\n",
      "anywhere\r\n",
      "at\r\n",
      "by\r\n",
      "cost\r\n",
      "ebook\r\n",
      "for\r\n",
      "gutenberg\r\n",
      "herman\r\n",
      "hesse\r\n",
      "is\r\n",
      "no\r\n",
      "of\r\n",
      "project\r\n",
      "siddhartha\r\n",
      "the\r\n",
      "this\r\n",
      "use\r\n",
      "with\r\n"
     ]
    }
   ],
   "source": [
    "head -3 siddhartha.txt | grep -oE '\\w{2,}' | tr '[:upper:]' '[:lower:]' | sort | uniq"
   ]
  },
  {
   "cell_type": "markdown",
   "metadata": {},
   "source": [
    "...and ```uniq```'s flag ```-c```, which gives you a count for each (note the reverse solidus (\"backslash\") denoting line continuation):"
   ]
  },
  {
   "cell_type": "code",
   "execution_count": 69,
   "metadata": {
    "collapsed": false
   },
   "outputs": [
    {
     "name": "stdout",
     "output_type": "stream",
     "text": [
      "      1 and\r\n",
      "      1 anyone\r\n",
      "      1 anywhere\r\n",
      "      1 at\r\n",
      "      1 by\r\n",
      "      1 cost\r\n",
      "      2 ebook\r\n",
      "      1 for\r\n",
      "      1 gutenberg\r\n",
      "      1 herman\r\n",
      "      1 hesse\r\n",
      "      1 is\r\n",
      "      1 no\r\n",
      "      2 of\r\n",
      "      1 project\r\n",
      "      1 siddhartha\r\n",
      "      2 the\r\n",
      "      1 this\r\n",
      "      1 use\r\n",
      "      1 with\r\n"
     ]
    }
   ],
   "source": [
    "head -3 siddhartha.txt | grep -oE '\\w{2,}' | tr '[:upper:]' '[:lower:]' \\\n",
    "    | sort | uniq -c"
   ]
  },
  {
   "cell_type": "markdown",
   "metadata": {},
   "source": [
    "Alright!  Now we're getting somewhere.  Let's run this against the whole set, and clip off the top 25 words."
   ]
  },
  {
   "cell_type": "code",
   "execution_count": 70,
   "metadata": {
    "collapsed": false
   },
   "outputs": [
    {
     "name": "stdout",
     "output_type": "stream",
     "text": [
      "      1 000\r\n",
      "    101 do\r\n",
      "    106 more\r\n",
      "    108 any\r\n",
      "    108 so\r\n",
      "     10 access\r\n",
      "     10 agree\r\n",
      "     10 arms\r\n",
      "     10 ask\r\n",
      "     10 ate\r\n",
      "     10 beginning\r\n",
      "     10 better\r\n",
      "     10 between\r\n",
      "     10 blue\r\n",
      "     10 brightly\r\n",
      "     10 chest\r\n",
      "     10 cycle\r\n",
      "     10 disgust\r\n",
      "     10 entire\r\n",
      "     10 entirely\r\n",
      "     10 except\r\n",
      "     10 exclaimed\r\n",
      "     10 feeling\r\n",
      "     10 help\r\n",
      "     10 isn\r\n",
      "sort: write failed: standard output: Broken pipe\r\n",
      "sort: write error\r\n"
     ]
    }
   ],
   "source": [
    "grep -oE '\\w{2,}' siddhartha.txt | tr '[:upper:]' '[:lower:]' \\\n",
    "    | sort | uniq -c | sort | head -25"
   ]
  },
  {
   "cell_type": "markdown",
   "metadata": {},
   "source": [
    "Ah, I forgot:  numeric sort, not character sort."
   ]
  },
  {
   "cell_type": "code",
   "execution_count": 71,
   "metadata": {
    "collapsed": false
   },
   "outputs": [
    {
     "name": "stdout",
     "output_type": "stream",
     "text": [
      "      1 000\r\n",
      "      1 1500\r\n",
      "      1 1887\r\n",
      "      1 20\r\n",
      "      1 2001\r\n",
      "      1 2008\r\n",
      "      1 2011\r\n",
      "      1 2013\r\n",
      "      1 23\r\n",
      "      1 30\r\n",
      "      1 4557\r\n",
      "      1 50\r\n",
      "      1 596\r\n",
      "      1 60\r\n",
      "      1 6221541\r\n",
      "      1 64\r\n",
      "      1 801\r\n",
      "      1 809\r\n",
      "      1 84116\r\n",
      "      1 99712\r\n",
      "      1 abide\r\n",
      "      1 abilities\r\n",
      "      1 abode\r\n",
      "      1 absorbed\r\n",
      "      1 absorbing\r\n",
      "sort: write failed: standard output: Broken pipe\r\n",
      "sort: write error\r\n"
     ]
    }
   ],
   "source": [
    "grep -oE '\\w{2,}' siddhartha.txt | tr '[:upper:]' '[:lower:]' \\\n",
    "    | sort | uniq -c | sort -n | head -25"
   ]
  },
  {
   "cell_type": "markdown",
   "metadata": {},
   "source": [
    "Oh!  And reverse that, so we get the top counts."
   ]
  },
  {
   "cell_type": "code",
   "execution_count": 72,
   "metadata": {
    "collapsed": false
   },
   "outputs": [
    {
     "name": "stdout",
     "output_type": "stream",
     "text": [
      "   2221 the\r\n",
      "   1434 and\r\n",
      "   1225 to\r\n",
      "   1106 of\r\n",
      "    960 he\r\n",
      "    708 his\r\n",
      "    686 in\r\n",
      "    540 you\r\n",
      "    524 had\r\n",
      "    512 was\r\n",
      "    499 this\r\n",
      "    496 it\r\n",
      "    459 him\r\n",
      "    410 with\r\n",
      "    409 siddhartha\r\n",
      "    371 for\r\n",
      "    343 is\r\n",
      "    341 that\r\n",
      "    328 not\r\n",
      "    261 from\r\n",
      "    259 but\r\n",
      "    242 as\r\n",
      "    235 one\r\n",
      "    235 have\r\n",
      "    213 be\r\n",
      "sort: write failed: standard output: Broken pipe\r\n",
      "sort: write error\r\n"
     ]
    }
   ],
   "source": [
    "grep -oE '\\w{2,}' siddhartha.txt | tr '[:upper:]' '[:lower:]' \\\n",
    " | sort | uniq -c | sort -rn | head -25"
   ]
  },
  {
   "cell_type": "markdown",
   "metadata": {},
   "source": [
    "And there you have it.  One quick pipeline, one useful result."
   ]
  }
 ],
 "metadata": {
  "kernelspec": {
   "display_name": "Bash",
   "language": "bash",
   "name": "bash"
  },
  "language_info": {
   "codemirror_mode": "shell",
   "file_extension": ".sh",
   "mimetype": "text/x-sh",
   "name": "bash"
  }
 },
 "nbformat": 4,
 "nbformat_minor": 0
}
